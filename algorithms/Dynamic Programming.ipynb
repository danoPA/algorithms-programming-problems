{
 "cells": [
  {
   "cell_type": "markdown",
   "metadata": {},
   "source": [
    "# Dynamic Programming"
   ]
  },
  {
   "cell_type": "markdown",
   "metadata": {},
   "source": [
    "Take a recursive algorithm and identify the overlapping subproblems (repeated calls). Cache those results for future recursive calls. Alternatively, implement something iterative.\n",
    "\n",
    "Advantages:\n",
    "\n",
    "Disadvantages:\n",
    "- Recursive algorithms can be space inefficient since each call adds a new layer to the stack.\n",
    "    - Implementing it iteratively can save space, but the code will likely be more complex.\n",
    "\n",
    "Tradeoffs to discuss:\n",
    "- Implementing an algorithm recursively vs iteratively (tradeoff space for complexity of code)"
   ]
  },
  {
   "cell_type": "code",
   "execution_count": 7,
   "metadata": {
    "collapsed": true
   },
   "outputs": [],
   "source": [
    "import matplotlib.pyplot as plt\n",
    "import seaborn as sns\n",
    "%matplotlib inline"
   ]
  },
  {
   "cell_type": "markdown",
   "metadata": {},
   "source": [
    "### Example 1: Fibonacci Numbers"
   ]
  },
  {
   "cell_type": "markdown",
   "metadata": {},
   "source": [
    "#### Naive Recursive Solution"
   ]
  },
  {
   "cell_type": "code",
   "execution_count": 2,
   "metadata": {
    "collapsed": true
   },
   "outputs": [],
   "source": [
    "def fib_recursive(n):\n",
    "    \"\"\"Calculates the nth (zero-indexed) Fibonacci number.\n",
    "    Time complexity (upper bound): O(2**n).\n",
    "    \"\"\"\n",
    "    if n == 0 or n == 1:\n",
    "        return 1\n",
    "    return fib_recursive(n-1) + fib_recursive(n-2)"
   ]
  },
  {
   "cell_type": "code",
   "execution_count": 3,
   "metadata": {
    "collapsed": true
   },
   "outputs": [],
   "source": [
    "def num_calls_for_fib_recursive(n):\n",
    "    \"\"\"Calculates then number of calls for fib_recursive(n).\n",
    "    Time complexity (upper bound): O(2**n).\n",
    "    \"\"\"\n",
    "    if n == 0 or n == 1:\n",
    "        return 1\n",
    "    return num_calls_for_fib_recursive(n-1) + num_calls_for_fib_recursive(n-2) + 1"
   ]
  },
  {
   "cell_type": "code",
   "execution_count": 24,
   "metadata": {
    "collapsed": false
   },
   "outputs": [
    {
     "data": {
      "text/plain": [
       "<matplotlib.legend.Legend at 0x11167f898>"
      ]
     },
     "execution_count": 24,
     "metadata": {},
     "output_type": "execute_result"
    },
    {
     "data": {
      "image/png": "[encoded data removed]",
      "text/plain": [
       "<matplotlib.figure.Figure at 0x1115c8898>"
      ]
     },
     "metadata": {},
     "output_type": "display_data"
    }
   ],
   "source": [
    "num_calls = list(map(num_calls_for_fib_recursive, range(10)))\n",
    "plt.plot(range(10), num_calls, label=\"Number of calls for Fib Recursive\")\n",
    "plt.title(\"Number of calls for recursive Fibonacci number calculator\")\n",
    "plt.xlabel(\"N\")\n",
    "plt.ylabel(\"Calls\")\n",
    "plt.plot(range(10), list(map(lambda x:1.6**x, range(10))), label=\"1.6**n\")\n",
    "plt.legend()"
   ]
  },
  {
   "cell_type": "markdown",
   "metadata": {},
   "source": [
    "#### Top-Down Dynamic Programming Solution"
   ]
  },
  {
   "cell_type": "code",
   "execution_count": 27,
   "metadata": {
    "collapsed": true
   },
   "outputs": [],
   "source": [
    "from collections import defaultdict"
   ]
  },
  {
   "cell_type": "code",
   "execution_count": 36,
   "metadata": {
    "collapsed": true
   },
   "outputs": [],
   "source": [
    "# defaultdict \n",
    "fibs = defaultdict(int)\n",
    "fibs[0] = 1\n",
    "fibs[1] = 1\n",
    "def fib_top_down(n, fibs):\n",
    "    \"\"\"Calculates the nth (zero-indexed) Fibonacci number.\n",
    "    Time complexity (upper bound): O(n).\n",
    "    Space complexity: O(n).\n",
    "    \"\"\"\n",
    "    if n == 0 or n == 1:\n",
    "        return 1\n",
    "    if fibs[n] != 0:\n",
    "        return fibs[n]\n",
    "    nth_fib = fib_top_down(n-1, fibs) + fib_top_down(n-2, fibs)\n",
    "    fibs[n] = nth_fib\n",
    "    return nth_fib"
   ]
  },
  {
   "cell_type": "code",
   "execution_count": 37,
   "metadata": {
    "collapsed": false
   },
   "outputs": [
    {
     "data": {
      "text/plain": [
       "8"
      ]
     },
     "execution_count": 37,
     "metadata": {},
     "output_type": "execute_result"
    }
   ],
   "source": [
    "fib_top_down(5, fibs)"
   ]
  },
  {
   "cell_type": "markdown",
   "metadata": {},
   "source": [
    "#### Bottom-Up Dynamic Programming Solution"
   ]
  },
  {
   "cell_type": "code",
   "execution_count": 42,
   "metadata": {
    "collapsed": true
   },
   "outputs": [],
   "source": [
    "fibs2 = defaultdict(int)\n",
    "fibs2[0] = 1\n",
    "fibs2[1] = 1\n",
    "def fib_bottom_up(n, fibs):\n",
    "    \"\"\"Calculates the nth (zero-indexed) Fibonacci number.\n",
    "    Time complexity (upper bound): O(n).\n",
    "    Space complexity: O(n)\"\"\"\n",
    "    if n == 0 or n == 1:\n",
    "        return 1\n",
    "    for i in range(2, n+1):\n",
    "        if fibs[i] == 0:\n",
    "            fibs[i] = fibs[i-1] + fibs[i-2]\n",
    "    return fibs[n]"
   ]
  },
  {
   "cell_type": "code",
   "execution_count": 43,
   "metadata": {
    "collapsed": false
   },
   "outputs": [
    {
     "data": {
      "text/plain": [
       "89"
      ]
     },
     "execution_count": 43,
     "metadata": {},
     "output_type": "execute_result"
    }
   ],
   "source": [
    "fib_bottom_up(10, fibs2)"
   ]
  },
  {
   "cell_type": "code",
   "execution_count": 44,
   "metadata": {
    "collapsed": true
   },
   "outputs": [],
   "source": [
    "def fib_bottom_up_no_store(n):\n",
    "    \"\"\"Calculates the nth (zero-indexed) Fibonacci number.\n",
    "    Expected to run only once so does not store intermediate Fibonacci values\n",
    "    and so takes up less space.\n",
    "    Time complexity: O(n).\n",
    "    Space complexity: O(1).\n",
    "    \"\"\"\n",
    "    if n == 0 or n == 1:\n",
    "        return 1\n",
    "    f1 = 1\n",
    "    f2 = 1\n",
    "    for i in range(2, n+1):\n",
    "        f = f1 + f2\n",
    "        f2 = f1\n",
    "        f1 = f\n",
    "    return f"
   ]
  },
  {
   "cell_type": "code",
   "execution_count": 45,
   "metadata": {
    "collapsed": false
   },
   "outputs": [
    {
     "data": {
      "text/plain": [
       "89"
      ]
     },
     "execution_count": 45,
     "metadata": {},
     "output_type": "execute_result"
    }
   ],
   "source": [
    "fib_bottom_up_no_store(10)"
   ]
  },
  {
   "cell_type": "markdown",
   "metadata": {},
   "source": [
    "References:\n",
    "- G. Laakmann-McDowell, Cracking the Coding Interview"
   ]
  }
 ],
 "metadata": {
  "kernelspec": {
   "display_name": "Python 3",
   "language": "python",
   "name": "python3"
  },
  "language_info": {
   "codemirror_mode": {
    "name": "ipython",
    "version": 3
   },
   "file_extension": ".py",
   "mimetype": "text/x-python",
   "name": "python",
   "nbconvert_exporter": "python",
   "pygments_lexer": "ipython3",
   "version": "3.6.0"
  }
 },
 "nbformat": 4,
 "nbformat_minor": 2
}
